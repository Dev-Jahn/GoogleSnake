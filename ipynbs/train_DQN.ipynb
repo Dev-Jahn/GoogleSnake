{
 "cells": [
  {
   "cell_type": "code",
   "execution_count": null,
   "id": "481145be-d8ea-40bc-98d8-d5caabffeba9",
   "metadata": {},
   "outputs": [],
   "source": []
  },
  {
   "cell_type": "code",
   "execution_count": 1,
   "id": "3a406397-9561-40c7-b7c0-7cfe711bff78",
   "metadata": {},
   "outputs": [
    {
     "name": "stdout",
     "output_type": "stream",
     "text": [
      "pygame 2.1.0 (SDL 2.0.16, Python 3.9.13)\n",
      "Hello from the pygame community. https://www.pygame.org/contribute.html\n"
     ]
    }
   ],
   "source": [
    "from time import sleep\n",
    "\n",
    "import numpy as np\n",
    "import torch\n",
    "from torch import nn\n",
    "import gym\n",
    "from gym.envs.registration import register\n",
    "from stable_baselines3 import *\n",
    "from stable_baselines3.common.env_util import make_vec_env\n",
    "from stable_baselines3.common.torch_layers import BaseFeaturesExtractor\n",
    "import wandb\n",
    "from wandb.integration.sb3 import WandbCallback\n",
    "\n",
    "from gsnake.env import GoogleSnakeEnv\n",
    "from gsnake.configs import GoogleSnakeConfig\n",
    "\n",
    "register(\n",
    "    id='GoogleSnake-v1',\n",
    "    entry_point=GoogleSnakeEnv,\n",
    "    max_episode_steps=500,\n",
    ")"
   ]
  },
  {
   "cell_type": "code",
   "execution_count": null,
   "id": "eac0279f-9488-4bc9-8235-a2cfc35ce58e",
   "metadata": {},
   "outputs": [
    {
     "name": "stderr",
     "output_type": "stream",
     "text": [
      "Failed to detect the name of this notebook, you can set it manually with the WANDB_NOTEBOOK_NAME environment variable to enable code saving.\n",
      "\u001b[34m\u001b[1mwandb\u001b[0m: Currently logged in as: \u001b[33mdev-jahn\u001b[0m. Use \u001b[1m`wandb login --relogin`\u001b[0m to force relogin\n"
     ]
    },
    {
     "data": {
      "application/vnd.jupyter.widget-view+json": {
       "model_id": "ef83184cbf464e79b9ad5e4af5d7feb4",
       "version_major": 2,
       "version_minor": 0
      },
      "text/plain": [
       "VBox(children=(Label(value='Waiting for wandb.init()...\\r'), FloatProgress(value=0.01666885946669936, max=1.0)…"
      ]
     },
     "metadata": {},
     "output_type": "display_data"
    },
    {
     "data": {
      "text/html": [
       "Tracking run with wandb version 0.13.4"
      ],
      "text/plain": [
       "<IPython.core.display.HTML object>"
      ]
     },
     "metadata": {},
     "output_type": "display_data"
    },
    {
     "data": {
      "text/html": [
       "Run data is saved locally in <code>/mnt/c/Users/ajh50/workspace/Assignments/RL2/GoogleSnake/wandb/run-20221103_020554-1v00icuo</code>"
      ],
      "text/plain": [
       "<IPython.core.display.HTML object>"
      ]
     },
     "metadata": {},
     "output_type": "display_data"
    },
    {
     "data": {
      "text/html": [
       "Syncing run <strong><a href=\"https://wandb.ai/dev-jahn/RL2/runs/1v00icuo\" target=\"_blank\">DQN_MIP_time_nch_obsfix_50M</a></strong> to <a href=\"https://wandb.ai/dev-jahn/RL2\" target=\"_blank\">Weights & Biases</a> (<a href=\"https://wandb.me/run\" target=\"_blank\">docs</a>)<br/>"
      ],
      "text/plain": [
       "<IPython.core.display.HTML object>"
      ]
     },
     "metadata": {},
     "output_type": "display_data"
    },
    {
     "data": {
      "application/vnd.jupyter.widget-view+json": {
       "model_id": "6c2a52aa7cd54fad9d1a2c8154ce85cf",
       "version_major": 2,
       "version_minor": 0
      },
      "text/plain": [
       "Output()"
      ]
     },
     "metadata": {},
     "output_type": "display_data"
    }
   ],
   "source": [
    "name = 'DQN_MIP_time_nch_obsfix_50M'\n",
    "\n",
    "config = GoogleSnakeConfig(\n",
    "    multi_channel=True,\n",
    "    # reward_mode='basic',\n",
    "    reward_mode='time_constrained',\n",
    "    reward_scale=1,\n",
    "    n_foods=3\n",
    ")\n",
    "run = wandb.init(\n",
    "    job_type='train', config=config.__dict__,\n",
    "    project='RL2',\n",
    "    tags=[name.split('_')[0], 'gsnake'],\n",
    "    name=name,\n",
    "    sync_tensorboard=True,\n",
    "    monitor_gym='False'\n",
    ")\n",
    "# Parallel environments\n",
    "env = make_vec_env(\"GoogleSnake-v1\", n_envs=10, env_kwargs={'config':config})\n",
    "model = DQN(\"MultiInputPolicy\", env, verbose=0, tensorboard_log=f'runs/{run.id}')\n",
    "\n",
    "model.learn(total_timesteps=50_000_000, callback=WandbCallback(verbose=2), progress_bar=True)\n",
    "run.finish()\n",
    "\n",
    "model.save(f'{name}.pt')"
   ]
  },
  {
   "cell_type": "code",
   "execution_count": 6,
   "id": "c2ec302d-b199-4cf4-a1b3-948437355cae",
   "metadata": {},
   "outputs": [
    {
     "name": "stdout",
     "output_type": "stream",
     "text": [
      "Terminated\n"
     ]
    }
   ],
   "source": [
    "####################################################################\n",
    "# Human evaluation\n",
    "####################################################################\n",
    "model = PPO.load(\"PPO_MLP_time.pt\")\n",
    "config = GoogleSnakeConfig(\n",
    "    # reward_mode='basic',\n",
    "    multi_channel=True,\n",
    "    reward_mode='time_constrained',\n",
    "    reward_scale=1,\n",
    "    n_foods=3\n",
    ")\n",
    "env = GoogleSnakeEnv(config, 42, 'gui')\n",
    "obs = env.reset()\n",
    "try:\n",
    "    while True:\n",
    "        action, _states = model.predict(obs)\n",
    "        obs, rewards, dones, info = env.step(action)\n",
    "        env.render()\n",
    "        sleep(0.5)\n",
    "except KeyboardInterrupt:\n",
    "    print('Terminated')\n",
    "finally:\n",
    "    env.close()"
   ]
  }
 ],
 "metadata": {
  "kernelspec": {
   "display_name": "rl",
   "language": "python",
   "name": "rl"
  },
  "language_info": {
   "codemirror_mode": {
    "name": "ipython",
    "version": 3
   },
   "file_extension": ".py",
   "mimetype": "text/x-python",
   "name": "python",
   "nbconvert_exporter": "python",
   "pygments_lexer": "ipython3",
   "version": "3.9.13"
  }
 },
 "nbformat": 4,
 "nbformat_minor": 5
}
