{
 "cells": [
  {
   "cell_type": "code",
   "execution_count": 1,
   "id": "ceed3acf-a295-4bd3-a5a4-88324adf738d",
   "metadata": {},
   "outputs": [],
   "source": [
    "import numpy as np\n",
    "from gsnake.utils import OneHotBox, SnakeGrid, SnakeState, SnakeObservation\n",
    "from gsnake.configs import GoogleSnakeConfig"
   ]
  },
  {
   "cell_type": "code",
   "execution_count": 2,
   "id": "0888e1a4-ca68-40d4-9785-978e79395e61",
   "metadata": {},
   "outputs": [],
   "source": [
    "config = GoogleSnakeConfig(multi_channel=True, reward_mode='time_constrained', reward_scale=1, n_foods=3)\n",
    "state = SnakeGrid(config)\n",
    "state.reset()"
   ]
  },
  {
   "cell_type": "code",
   "execution_count": 3,
   "id": "d4fb05de-07ce-4b2f-a32f-1be7538564a1",
   "metadata": {},
   "outputs": [],
   "source": [
    "obs = SnakeObservation(config.grid_shape, multi_channel=True)"
   ]
  },
  {
   "cell_type": "code",
   "execution_count": 4,
   "id": "24c59d39-1bad-4065-901d-1bc8c1fc5938",
   "metadata": {},
   "outputs": [
    {
     "data": {
      "text/plain": [
       "numpy.uint8"
      ]
     },
     "execution_count": 4,
     "metadata": {},
     "output_type": "execute_result"
    }
   ],
   "source": [
    "obs.dtype"
   ]
  },
  {
   "cell_type": "code",
   "execution_count": 5,
   "id": "d7974d58-c101-4c4c-9b40-b205f45cbbbf",
   "metadata": {},
   "outputs": [
    {
     "name": "stdout",
     "output_type": "stream",
     "text": [
      "[[0. 0. 0. 0. 0. 0. 0. 0. 0. 0. 0. 0. 0. 0. 0.]\n",
      " [0. 0. 0. 0. 0. 0. 0. 0. 0. 0. 0. 0. 0. 0. 0.]\n",
      " [0. 0. 0. 0. 0. 0. 0. 0. 0. 0. 0. 0. 0. 0. 0.]\n",
      " [0. 0. 0. 0. 0. 0. 0. 0. 0. 0. 0. 0. 0. 0. 0.]\n",
      " [0. 0. 0. 0. 2. 0. 0. 0. 0. 0. 0. 0. 0. 0. 0.]\n",
      " [0. 0. 1. 1. 0. 0. 0. 0. 0. 0. 0. 0. 0. 0. 0.]\n",
      " [0. 0. 0. 0. 0. 0. 0. 0. 0. 0. 0. 0. 0. 0. 0.]\n",
      " [0. 0. 0. 0. 0. 0. 0. 0. 0. 0. 0. 0. 0. 0. 0.]\n",
      " [0. 0. 0. 0. 0. 0. 0. 0. 0. 0. 0. 0. 0. 0. 0.]\n",
      " [0. 0. 0. 0. 0. 2. 0. 0. 0. 0. 0. 0. 0. 0. 0.]]\n"
     ]
    },
    {
     "ename": "IndexError",
     "evalue": "arrays used as indices must be of integer (or boolean) type",
     "output_type": "error",
     "traceback": [
      "\u001b[0;31m---------------------------------------------------------------------------\u001b[0m",
      "\u001b[0;31mIndexError\u001b[0m                                Traceback (most recent call last)",
      "Cell \u001b[0;32mIn [5], line 1\u001b[0m\n\u001b[0;32m----> 1\u001b[0m \u001b[43mobs\u001b[49m\u001b[38;5;241;43m.\u001b[39;49m\u001b[43mconvert\u001b[49m\u001b[43m(\u001b[49m\u001b[43mstate\u001b[49m\u001b[43m)\u001b[49m\n",
      "File \u001b[0;32m/mnt/c/Users/ajh50/workspace/Assignments/RL2/GoogleSnake/gsnake/utils.py:374\u001b[0m, in \u001b[0;36mSnakeObservation.convert\u001b[0;34m(self, state)\u001b[0m\n\u001b[1;32m    371\u001b[0m     obs \u001b[38;5;241m=\u001b[39m \u001b[38;5;28mself\u001b[39m\u001b[38;5;241m.\u001b[39mencode(obs)[\u001b[38;5;28;01mNone\u001b[39;00m, \u001b[38;5;241m.\u001b[39m\u001b[38;5;241m.\u001b[39m\u001b[38;5;241m.\u001b[39m]\n\u001b[1;32m    372\u001b[0m \u001b[38;5;28;01melse\u001b[39;00m:\n\u001b[1;32m    373\u001b[0m     \u001b[38;5;66;03m# One-hot encoding\u001b[39;00m\n\u001b[0;32m--> 374\u001b[0m     ohe \u001b[38;5;241m=\u001b[39m \u001b[43mnp\u001b[49m\u001b[38;5;241;43m.\u001b[39;49m\u001b[43meye\u001b[49m\u001b[43m(\u001b[49m\u001b[38;5;28;43mself\u001b[39;49m\u001b[38;5;241;43m.\u001b[39;49m\u001b[43mn_states\u001b[49m\u001b[43m,\u001b[49m\u001b[43m \u001b[49m\u001b[43mdtype\u001b[49m\u001b[38;5;241;43m=\u001b[39;49m\u001b[38;5;28;43mself\u001b[39;49m\u001b[38;5;241;43m.\u001b[39;49m\u001b[43mdtype\u001b[49m\u001b[43m)\u001b[49m\u001b[43m[\u001b[49m\u001b[38;5;28;43mself\u001b[39;49m\u001b[38;5;241;43m.\u001b[39;49m\u001b[43mencode\u001b[49m\u001b[43m(\u001b[49m\u001b[43mobs\u001b[49m\u001b[43m)\u001b[49m\u001b[43m]\u001b[49m\n\u001b[1;32m    375\u001b[0m     \u001b[38;5;66;03m# Cut off the first channel containing SnakeState.EMPTY\u001b[39;00m\n\u001b[1;32m    376\u001b[0m     obs \u001b[38;5;241m=\u001b[39m ohe\u001b[38;5;241m.\u001b[39mtranspose((\u001b[38;5;241m-\u001b[39m\u001b[38;5;241m1\u001b[39m, \u001b[38;5;241m*\u001b[39m\u001b[38;5;28mlist\u001b[39m(\u001b[38;5;28mrange\u001b[39m(\u001b[38;5;28mlen\u001b[39m(ohe\u001b[38;5;241m.\u001b[39mshape))[:\u001b[38;5;241m-\u001b[39m\u001b[38;5;241m1\u001b[39m])))[\u001b[38;5;241m1\u001b[39m:]\n",
      "\u001b[0;31mIndexError\u001b[0m: arrays used as indices must be of integer (or boolean) type"
     ]
    }
   ],
   "source": [
    "obs.convert(state)"
   ]
  },
  {
   "cell_type": "code",
   "execution_count": null,
   "id": "9cad49b7-d904-49d2-94f8-76a223dee9fb",
   "metadata": {},
   "outputs": [],
   "source": []
  }
 ],
 "metadata": {
  "kernelspec": {
   "display_name": "rl",
   "language": "python",
   "name": "rl"
  },
  "language_info": {
   "codemirror_mode": {
    "name": "ipython",
    "version": 3
   },
   "file_extension": ".py",
   "mimetype": "text/x-python",
   "name": "python",
   "nbconvert_exporter": "python",
   "pygments_lexer": "ipython3",
   "version": "3.9.13"
  }
 },
 "nbformat": 4,
 "nbformat_minor": 5
}
