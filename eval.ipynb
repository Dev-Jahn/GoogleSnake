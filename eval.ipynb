{
 "cells": [
  {
   "cell_type": "code",
   "execution_count": null,
   "id": "c41ccd31-c4bc-4a97-b545-dea5e20ae4bb",
   "metadata": {},
   "outputs": [],
   "source": []
  },
  {
   "cell_type": "code",
   "execution_count": 4,
   "id": "fdaab1a8-d161-48ab-aa39-f2592ea32498",
   "metadata": {},
   "outputs": [],
   "source": [
    "from IPython.display import clear_output\n",
    "from matplotlib import pyplot as plt\n",
    "from time import sleep\n",
    "\n",
    "import numpy as np\n",
    "import gym\n",
    "from gym.envs.registration import register\n",
    "from stable_baselines3 import *\n",
    "from stable_baselines3.common.env_util import make_vec_env\n",
    "import wandb\n",
    "from wandb.integration.sb3 import WandbCallback\n",
    "\n",
    "from gsnake.env import GoogleSnakeEnv\n",
    "from gsnake.configs import GoogleSnakeConfig\n",
    "# register(\n",
    "#     id='GoogleSnake-v1',\n",
    "#     entry_point=GoogleSnakeEnv,\n",
    "#     max_episode_steps=500,\n",
    "# )"
   ]
  },
  {
   "cell_type": "code",
   "execution_count": 11,
   "id": "53781a2d-64a1-4621-8393-b4d7db56d5f7",
   "metadata": {},
   "outputs": [
    {
     "data": {
      "image/png": "[encoded data removed]",
      "text/plain": [
       "<Figure size 640x480 with 1 Axes>"
      ]
     },
     "metadata": {},
     "output_type": "display_data"
    },
    {
     "name": "stdout",
     "output_type": "stream",
     "text": [
      "Terminated\n"
     ]
    }
   ],
   "source": [
    "model = PPO.load(\"./PPO_MLP_time_nch_10M.pt\")\n",
    "config = GoogleSnakeConfig(\n",
    "    # reward_mode='basic',\n",
    "    multi_channel=True,\n",
    "    reward_mode='time_constrained',\n",
    "    reward_scale=1,\n",
    "    n_foods=3\n",
    ")\n",
    "env = GoogleSnakeEnv(config, 42, 'tui')\n",
    "obs = env.reset()\n",
    "img = env.render()\n",
    "done = False\n",
    "try:\n",
    "    while True:\n",
    "        action, _states = model.predict(obs)\n",
    "        obs, reward, done, info = env.step(action)\n",
    "        if done:\n",
    "            obs = env.reset()\n",
    "            continue\n",
    "        print(reward)\n",
    "        clear_output(wait=True)\n",
    "        plt.axis('off')\n",
    "        plt.imshow(env.render())\n",
    "        plt.show()\n",
    "        sleep(0.2)\n",
    "except KeyboardInterrupt:\n",
    "    print('Terminated')\n",
    "finally:\n",
    "    env.close()"
   ]
  },
  {
   "cell_type": "code",
   "execution_count": null,
   "id": "bf283004-1838-45cf-8934-dcb86a80379d",
   "metadata": {},
   "outputs": [],
   "source": [
    "\n",
    "\n",
    "\n",
    "\n",
    "\n",
    "\n"
   ]
  },
  {
   "cell_type": "code",
   "execution_count": null,
   "id": "6b07ff0a-9801-420d-bd0d-c1fe84734466",
   "metadata": {},
   "outputs": [],
   "source": []
  }
 ],
 "metadata": {
  "kernelspec": {
   "display_name": "rl",
   "language": "python",
   "name": "rl"
  },
  "language_info": {
   "codemirror_mode": {
    "name": "ipython",
    "version": 3
   },
   "file_extension": ".py",
   "mimetype": "text/x-python",
   "name": "python",
   "nbconvert_exporter": "python",
   "pygments_lexer": "ipython3",
   "version": "3.9.13"
  }
 },
 "nbformat": 4,
 "nbformat_minor": 5
}
